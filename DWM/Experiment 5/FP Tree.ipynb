{
 "cells": [
  {
   "cell_type": "code",
   "execution_count": 8,
   "id": "a0ff63fa-7824-4359-8e3a-1a045f03626b",
   "metadata": {},
   "outputs": [
    {
     "name": "stdout",
     "output_type": "stream",
     "text": [
      "Encoded Basket:\n",
      "   a  b  c  d  e  f  g  h  i  j  k  l  m  n  o  p  s  w\n",
      "0  1  0  1  1  0  1  1  0  1  0  0  0  1  0  0  1  0  0\n",
      "1  1  1  1  0  0  1  0  0  0  0  0  1  1  0  1  0  0  0\n",
      "2  0  1  0  0  0  1  0  1  0  1  0  0  0  0  1  0  0  1\n",
      "3  0  1  1  0  0  0  0  0  0  0  1  0  0  0  0  1  1  0\n",
      "4  1  0  1  0  1  1  0  0  0  0  0  1  1  1  0  1  0  0\n"
     ]
    },
    {
     "name": "stdin",
     "output_type": "stream",
     "text": [
      "Enter minimum support:  .2\n"
     ]
    },
    {
     "name": "stdout",
     "output_type": "stream",
     "text": [
      "Frequent Itemsets:\n",
      "     support                  itemsets\n",
      "0        0.8                       (f)\n",
      "1        0.8                       (c)\n",
      "2        0.6                       (a)\n",
      "3        0.6                       (p)\n",
      "4        0.6                       (m)\n",
      "..       ...                       ...\n",
      "652      0.2     (m, e, c, f, a, l, n)\n",
      "653      0.2     (e, c, f, a, p, l, n)\n",
      "654      0.2     (m, e, c, f, a, p, n)\n",
      "655      0.2     (m, e, c, f, a, p, l)\n",
      "656      0.2  (m, e, c, f, a, p, l, n)\n",
      "\n",
      "[657 rows x 2 columns]\n"
     ]
    },
    {
     "name": "stderr",
     "output_type": "stream",
     "text": [
      "/home/ayaan-shaikh/miniforge3/lib/python3.12/site-packages/mlxtend/frequent_patterns/fpcommon.py:109: DeprecationWarning: DataFrames with non-bool types result in worse computationalperformance and their support might be discontinued in the future.Please use a DataFrame with bool type\n",
      "  warnings.warn(\n"
     ]
    }
   ],
   "source": [
    "import pandas as pd\n",
    "from mlxtend.frequent_patterns import fpgrowth\n",
    "\n",
    "# Define the dataset\n",
    "df = [['f', 'a', 'c', 'd', 'g', 'i', 'm', 'p'],\n",
    "      ['a', 'b', 'c', 'f', 'l', 'm', 'o'],\n",
    "      ['b', 'f', 'h', 'j', 'o', 'w'],\n",
    "      ['b', 'c', 'k', 's', 'p'],\n",
    "      ['a', 'f', 'c', 'e', 'l', 'p', 'm', 'n']]\n",
    "\n",
    "# Create a DataFrame from the dataset\n",
    "basket = pd.DataFrame(df)\n",
    "\n",
    "# One-hot encode the dataset\n",
    "basket_encoded = pd.get_dummies(basket.stack()).groupby(level=0).sum()\n",
    "\n",
    "# Print the encoded basket\n",
    "print(\"Encoded Basket:\")\n",
    "print(basket_encoded)\n",
    "\n",
    "# Set minimum support for the FP-Growth algorithm\n",
    "min_support = float(input(\"Enter minimum support: \"))\n",
    "\n",
    "# Apply the FP-Growth algorithm\n",
    "frequent_itemsets = fpgrowth(basket_encoded, min_support=min_support, use_colnames=True)\n",
    "\n",
    "# Print the frequent patterns generated\n",
    "print(\"Frequent Itemsets:\")\n",
    "print(frequent_itemsets)"
   ]
  }
 ],
 "metadata": {
  "kernelspec": {
   "display_name": "Python 3 (ipykernel)",
   "language": "python",
   "name": "python3"
  },
  "language_info": {
   "codemirror_mode": {
    "name": "ipython",
    "version": 3
   },
   "file_extension": ".py",
   "mimetype": "text/x-python",
   "name": "python",
   "nbconvert_exporter": "python",
   "pygments_lexer": "ipython3",
   "version": "3.12.5"
  }
 },
 "nbformat": 4,
 "nbformat_minor": 5
}

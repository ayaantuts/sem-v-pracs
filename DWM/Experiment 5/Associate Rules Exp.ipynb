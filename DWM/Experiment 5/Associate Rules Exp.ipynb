{
 "cells": [
  {
   "cell_type": "code",
   "execution_count": 12,
   "id": "f1fc23de-bbe7-4069-aa07-8b067fa5766e",
   "metadata": {},
   "outputs": [
    {
     "name": "stdin",
     "output_type": "stream",
     "text": [
      "Enter minimum support (between 0 and 1):  .2\n",
      "Enter minimum confidence (between 0 and 1):  .75\n"
     ]
    },
    {
     "name": "stdout",
     "output_type": "stream",
     "text": [
      "Frequent Itemsets:\n",
      "     support                                           itemsets\n",
      "0   0.275862                    (BAKING SET 9 PIECE RETROSPOT )\n",
      "1   0.827586                                          (POSTAGE)\n",
      "2   0.298851                         (RED RETROSPOT MINI CASES)\n",
      "3   0.287356              (ROUND SNACK BOXES SET OF4 WOODLAND )\n",
      "4   0.287356              (SET/20 RED RETROSPOT PAPER NAPKINS )\n",
      "..       ...                                                ...\n",
      "71  0.241379  (RABBIT NIGHT LIGHT, POSTAGE, LUNCH BAG RED RE...\n",
      "72  0.241379  (PLASTERS IN TIN SPACEBOY, POSTAGE, PLASTERS I...\n",
      "73  0.206897  (RABBIT NIGHT LIGHT, POSTAGE, RED TOADSTOOL LE...\n",
      "74  0.229885  (SET/6 RED SPOTTY PAPER CUPS, SET/6 RED SPOTTY...\n",
      "75  0.206897  (SET/6 RED SPOTTY PAPER CUPS, SET/6 RED SPOTTY...\n",
      "\n",
      "[76 rows x 2 columns]\n",
      "Association Rules:\n",
      "                                          antecedents  \\\n",
      "0                     (BAKING SET 9 PIECE RETROSPOT )   \n",
      "1                          (RED RETROSPOT MINI CASES)   \n",
      "2               (ROUND SNACK BOXES SET OF4 WOODLAND )   \n",
      "3               (SET/20 RED RETROSPOT PAPER NAPKINS )   \n",
      "4                       (SET/6 RED SPOTTY PAPER CUPS)   \n",
      "..                                                ...   \n",
      "75           (SET/6 RED SPOTTY PAPER PLATES, POSTAGE)   \n",
      "76  (SET/6 RED SPOTTY PAPER PLATES, SET/20 RED RET...   \n",
      "77     (POSTAGE, SET/20 RED RETROSPOT PAPER NAPKINS )   \n",
      "78                      (SET/6 RED SPOTTY PAPER CUPS)   \n",
      "79                    (SET/6 RED SPOTTY PAPER PLATES)   \n",
      "\n",
      "                                          consequents  antecedent support  \\\n",
      "0                                           (POSTAGE)            0.275862   \n",
      "1                                           (POSTAGE)            0.298851   \n",
      "2                                           (POSTAGE)            0.287356   \n",
      "3                                           (POSTAGE)            0.287356   \n",
      "4                                           (POSTAGE)            0.264368   \n",
      "..                                                ...                 ...   \n",
      "75  (SET/6 RED SPOTTY PAPER CUPS, SET/20 RED RETRO...            0.229885   \n",
      "76             (SET/6 RED SPOTTY PAPER CUPS, POSTAGE)            0.229885   \n",
      "77  (SET/6 RED SPOTTY PAPER CUPS, SET/6 RED SPOTTY...            0.241379   \n",
      "78  (SET/6 RED SPOTTY PAPER PLATES, POSTAGE, SET/2...            0.264368   \n",
      "79  (SET/6 RED SPOTTY PAPER CUPS, POSTAGE, SET/20 ...            0.252874   \n",
      "\n",
      "    consequent support   support  confidence      lift  leverage  conviction  \\\n",
      "0             0.827586  0.241379    0.875000  1.057292  0.013080    1.379310   \n",
      "1             0.827586  0.264368    0.884615  1.068910  0.017043    1.494253   \n",
      "2             0.827586  0.275862    0.960000  1.160000  0.038050    4.310345   \n",
      "3             0.827586  0.241379    0.840000  1.015000  0.003567    1.077586   \n",
      "4             0.827586  0.241379    0.913043  1.103261  0.022592    1.982759   \n",
      "..                 ...       ...         ...       ...       ...         ...   \n",
      "75            0.229885  0.206897    0.900000  3.915000  0.154049    7.701149   \n",
      "76            0.241379  0.206897    0.900000  3.728571  0.151407    7.586207   \n",
      "77            0.252874  0.206897    0.857143  3.389610  0.145858    5.229885   \n",
      "78            0.206897  0.206897    0.782609  3.782609  0.152200    3.648276   \n",
      "79            0.206897  0.206897    0.818182  3.954545  0.154578    4.362069   \n",
      "\n",
      "    zhangs_metric  \n",
      "0        0.074830  \n",
      "1        0.091946  \n",
      "2        0.193548  \n",
      "3        0.020737  \n",
      "4        0.127232  \n",
      "..            ...  \n",
      "75       0.966833  \n",
      "76       0.950249  \n",
      "77       0.929293  \n",
      "78       1.000000  \n",
      "79       1.000000  \n",
      "\n",
      "[80 rows x 10 columns]\n"
     ]
    },
    {
     "name": "stderr",
     "output_type": "stream",
     "text": [
      "C:\\Users\\djsce.student\\Anaconda3\\lib\\site-packages\\mlxtend\\frequent_patterns\\fpcommon.py:109: DeprecationWarning: DataFrames with non-bool types result in worse computationalperformance and their support might be discontinued in the future.Please use a DataFrame with bool type\n",
      "  warnings.warn(\n"
     ]
    }
   ],
   "source": [
    "import pandas as pd\n",
    "from mlxtend.frequent_patterns import apriori, association_rules\n",
    "\n",
    "# Load dataset\n",
    "data = pd.read_csv('./Data/france.csv')\n",
    "\n",
    "# Preprocess data\n",
    "basket = data.groupby(['CustomerID', 'Description'])['Quantity'].sum().unstack().reset_index().fillna(0).set_index('CustomerID')\n",
    "basket = (basket > 0).astype(int)\n",
    "\n",
    "# Get user input\n",
    "min_support = float(input(\"Enter minimum support (between 0 and 1): \"))\n",
    "min_confidence = float(input(\"Enter minimum confidence (between 0 and 1): \"))\n",
    "\n",
    "# Apply Apriori algorithm\n",
    "frequent_itemsets = apriori(basket, min_support=min_support, use_colnames=True)\n",
    "print(\"Frequent Itemsets:\")\n",
    "print(frequent_itemsets)\n",
    "\n",
    "# Generate association rules\n",
    "rules = association_rules(frequent_itemsets, metric=\"confidence\", min_threshold=min_confidence)\n",
    "print(\"Association Rules:\")\n",
    "print(rules)"
   ]
  }
 ],
 "metadata": {
  "kernelspec": {
   "display_name": "Python 3 (ipykernel)",
   "language": "python",
   "name": "python3"
  },
  "language_info": {
   "codemirror_mode": {
    "name": "ipython",
    "version": 3
   },
   "file_extension": ".py",
   "mimetype": "text/x-python",
   "name": "python",
   "nbconvert_exporter": "python",
   "pygments_lexer": "ipython3",
   "version": "3.9.12"
  }
 },
 "nbformat": 4,
 "nbformat_minor": 5
}
